{
 "cells": [
  {
   "cell_type": "markdown",
   "metadata": {},
   "source": [
    "# House price evolution model for Limerick (Ireland)"
   ]
  },
  {
   "cell_type": "markdown",
   "metadata": {},
   "source": [
    "## Introduction"
   ]
  },
  {
   "cell_type": "markdown",
   "metadata": {},
   "source": [
    "House pricing has raised in the recent years in Ireland. Buying a house is one of the main lifelong investments families will face off. There are several Real Estate blogs that are giving their forecast opinion through blogs.\n",
    "\n",
    "This model aims to give answers to this question by runing a model based in different variables explained below."
   ]
  },
  {
   "cell_type": "markdown",
   "metadata": {},
   "source": [
    "## Methodology"
   ]
  },
  {
   "cell_type": "markdown",
   "metadata": {},
   "source": [
    "### Datasets / variables"
   ]
  },
  {
   "cell_type": "markdown",
   "metadata": {},
   "source": [
    "6 different variables have been chosen to feed the model. all the data comes in from CSO (Central Statistics Office) and look as follows:"
   ]
  },
  {
   "cell_type": "markdown",
   "metadata": {},
   "source": [
    "All datasets have associated the following information"
   ]
  },
  {
   "cell_type": "code",
   "execution_count": 27,
   "metadata": {},
   "outputs": [
    {
     "name": "stdout",
     "output_type": "stream",
     "text": [
      "Number of schools:  Index(['Statistic', 'Year', 'County', 'School Programme', 'UNIT', 'VALUE'], dtype='object')\n",
      "Housing stock and vacant dwellings:  Index(['Statistic', 'CensusYear', 'Province County or City', 'UNIT', 'VALUE'], dtype='object')\n",
      "Dwelling property status Index(['Statistic', 'Year', 'County', 'Dwelling Status', 'Stamp Duty Event',\n",
      "       'Type of Buyer', 'Type of Sale', 'UNIT', 'VALUE'],\n",
      "      dtype='object')\n",
      "income information:  Index(['Statistic', 'Month', 'Age Group', 'Sex', 'UNIT', 'VALUE'], dtype='object')\n",
      "Unemployement Index(['Statistic', 'Month', 'Age Group', 'Sex', 'UNIT', 'VALUE'], dtype='object')\n"
     ]
    }
   ],
   "source": [
    "#import pandas and read datasets\n",
    "import pandas as pd\n",
    "path = (r'EDA57.20201230T121257.csv')\n",
    "nsf = pd.read_csv (path)\n",
    "print('Number of schools: ',nsf.keys())\n",
    "path = (r'EP007.20201230T121226.csv')\n",
    "hsf = pd.read_csv (path)\n",
    "print('Housing stock and vacant dwellings: ', hsf.keys())\n",
    "path = (r'HPA02.20201230T191226.csv')\n",
    "dpf = pd.read_csv (path)\n",
    "print('Dwelling property status',dpf.keys())\n",
    "path = (r'IIA01.20201230T121251.csv')\n",
    "inf = pd.read_csv (path)\n",
    "print('income information: ',df.keys())\n",
    "path = (r'MUM01.20201230T121228.csv')\n",
    "uf = pd.read_csv (path)\n",
    "print('Unemployement',df.keys())"
   ]
  },
  {
   "cell_type": "markdown",
   "metadata": {},
   "source": [
    "in order to explore each of those and how it looks the information, it has been broken down each one in order to study their values and its distribution."
   ]
  },
  {
   "cell_type": "markdown",
   "metadata": {},
   "source": [
    "#### Dataset 1: Number of Schools"
   ]
  },
  {
   "cell_type": "markdown",
   "metadata": {},
   "source": [
    "Visualization, clean up and select the values interested for our model is required as first instance beforehand."
   ]
  },
  {
   "cell_type": "code",
   "execution_count": 99,
   "metadata": {},
   "outputs": [
    {
     "name": "stdout",
     "output_type": "stream",
     "text": [
      "                        Statistic  Year        County    VALUE\n",
      "3744  Classes in National Schools  1995  All Counties  18535.0\n",
      "3745  Classes in National Schools  1995  All Counties  17409.0\n",
      "3746  Classes in National Schools  1995  All Counties    367.0\n",
      "3747  Classes in National Schools  1995  All Counties    759.0\n",
      "3748  Classes in National Schools  1995        Carlow    237.0\n",
      "...                           ...   ...           ...      ...\n",
      "7483  Classes in National Schools  2020       Donegal     28.0\n",
      "7484  Classes in National Schools  2020      Monaghan    340.0\n",
      "7485  Classes in National Schools  2020      Monaghan    321.0\n",
      "7486  Classes in National Schools  2020      Monaghan     19.0\n",
      "7487  Classes in National Schools  2020      Monaghan      0.0\n",
      "\n",
      "[3744 rows x 4 columns]\n"
     ]
    }
   ],
   "source": [
    "import seaborn as sns\n",
    "from matplotlib import pyplot as plt\n",
    "# reindex the columns just to avoid spaces in the header names\n",
    "p = nsf.reindex(columns=['Statistic', 'Year', 'County', 'School Programme', 'UNIT', 'VALUE'])\n",
    "# dataframe just selecting information wanted to select\n",
    "df1 = p[['Statistic','Year','County','VALUE']]\n",
    "df1 = df1.loc[df1['Statistic'].str.startswith('Cla')]\n",
    "print(df1)"
   ]
  },
  {
   "cell_type": "markdown",
   "metadata": {},
   "source": [
    "Sum the values per year and county:"
   ]
  },
  {
   "cell_type": "code",
   "execution_count": 100,
   "metadata": {},
   "outputs": [],
   "source": [
    "import numpy as np\n",
    "## select just Limerick numbers (Limerick, Limerick city and Limerick county)\n",
    "select_Limerick = df1.loc[df1['County'].str.startswith('Lim')]\n",
    "## group by Year and sum value\n",
    "schools_Limerick=select_Limerick.groupby('Year', as_index=False).agg({\"VALUE\": \"sum\"})\n",
    "## reindex = schools_Limerick.reindex(columns=['Year', 'VALUE'])\n",
    "## print(reindex)\n"
   ]
  },
  {
   "cell_type": "code",
   "execution_count": 102,
   "metadata": {},
   "outputs": [
    {
     "data": {
      "image/png": "[encoded data removed]",
      "text/plain": [
       "<Figure size 432x288 with 1 Axes>"
      ]
     },
     "metadata": {
      "needs_background": "light"
     },
     "output_type": "display_data"
    }
   ],
   "source": [
    "import seaborn as sns\n",
    "from matplotlib import pyplot as plt\n",
    "sns.regplot(x=\"Year\", y=\"VALUE\", data=schools_Limerick).set_title('Number classes in national school in county Limerick ');\n"
   ]
  },
  {
   "cell_type": "markdown",
   "metadata": {},
   "source": [
    "#### Housing stock"
   ]
  },
  {
   "cell_type": "code",
   "execution_count": 123,
   "metadata": {},
   "outputs": [],
   "source": [
    "# reindex the columns just to avoid spaces in the header names\n",
    "\n",
    "p = hsf.reindex(columns=['Statistic', 'CensusYear', 'Province County or City', 'UNIT', 'VALUE'])\n",
    "\n",
    "# dataframe just selecting information wanted to select\n",
    "df1 = p[['Statistic','CensusYear','Province County or City','VALUE']]\n",
    "df2 = df1.loc[df1['Statistic'].str.startswith('Housing')] ## Total housing stock\n"
   ]
  },
  {
   "cell_type": "code",
   "execution_count": 122,
   "metadata": {},
   "outputs": [],
   "source": [
    "# Select just County Limerick stock housing\n",
    "select_Limerick = df2.loc[df2['Province County or City'].str.startswith('Lim')]"
   ]
  },
  {
   "cell_type": "code",
   "execution_count": 124,
   "metadata": {},
   "outputs": [
    {
     "name": "stdout",
     "output_type": "stream",
     "text": [
      "                Statistic  CensusYear Province County or City    VALUE\n",
      "24   Housing Stock - 2011        2016                Limerick  82553.0\n",
      "25   Housing Stock - 2011        2016           Limerick City  26808.0\n",
      "26   Housing Stock - 2011        2016         Limerick County  55745.0\n",
      "244   Housing Stock -2016        2016                Limerick  82741.0\n",
      "245   Housing Stock -2016        2016           Limerick City  26480.0\n",
      "246   Housing Stock -2016        2016         Limerick County  56261.0\n"
     ]
    }
   ],
   "source": [
    "print(select_Limerick)"
   ]
  },
  {
   "cell_type": "code",
   "execution_count": 142,
   "metadata": {},
   "outputs": [
    {
     "name": "stdout",
     "output_type": "stream",
     "text": [
      "stock Variation in County Limerick between 2016 and 2011:  376.0\n"
     ]
    }
   ],
   "source": [
    "Select_2011 = select_Limerick.loc[select_Limerick['Statistic']=='Housing Stock - 2011']\n",
    "Select_2016 = select_Limerick.loc[select_Limerick['Statistic']=='Housing Stock -2016']\n",
    "\n",
    "lim_2011_sum = Select_2011['VALUE'].sum()\n",
    "lim_2016_sum = Select_2016['VALUE'].sum()\n",
    "\n",
    "#Variation stock in Limerick\n",
    "\n",
    "dif_stock= lim_2016_sum - lim_2011_sum\n",
    "print('stock Variation in County Limerick between 2016 and 2011: ',dif_stock)"
   ]
  },
  {
   "cell_type": "markdown",
   "metadata": {},
   "source": [
    "#### Income information"
   ]
  },
  {
   "cell_type": "code",
   "execution_count": 145,
   "metadata": {},
   "outputs": [
    {
     "name": "stdout",
     "output_type": "stream",
     "text": [
      "                          Statistic  Year             Electoral Division  \\\n",
      "0     Household median gross income  2016  001  Carlow Urban, Co. Carlow   \n",
      "1     Household median gross income  2016  002 Graigue Urban, Co. Carlow   \n",
      "2     Household median gross income  2016       003 Clonmore, Co. Carlow   \n",
      "3     Household median gross income  2016    004 Hacketstown, Co. Carlow   \n",
      "4     Household median gross income  2016    005 Haroldstown, Co. Carlow   \n",
      "...                             ...   ...                            ...   \n",
      "3404  Household median gross income  2016  066 Shanmullagh, Co. Monaghan   \n",
      "3405  Household median gross income  2016      067 Sheskin, Co. Monaghan   \n",
      "3406  Household median gross income  2016     068 Tedavnet, Co. Monaghan   \n",
      "3407  Household median gross income  2016     069 Tehallan, Co. Monaghan   \n",
      "3408  Household median gross income  2016  070 Tullycorbet, Co. Monaghan   \n",
      "\n",
      "      UNIT  VALUE  \n",
      "0     Euro  28511  \n",
      "1     Euro  28645  \n",
      "2     Euro  52789  \n",
      "3     Euro  35810  \n",
      "4     Euro  42365  \n",
      "...    ...    ...  \n",
      "3404  Euro  36738  \n",
      "3405  Euro  37820  \n",
      "3406  Euro  45616  \n",
      "3407  Euro  45161  \n",
      "3408  Euro  42166  \n",
      "\n",
      "[3409 rows x 5 columns]\n",
      "                          Statistic  Year              Electoral Division  \\\n",
      "1113  Household median gross income  2016       059 Limerick, Co. Wexford   \n",
      "1974  Household median gross income  2016      001 Abbey A, Limerick City   \n",
      "1975  Household median gross income  2016      002 Abbey B, Limerick City   \n",
      "1976  Household median gross income  2016      003 Abbey C, Limerick City   \n",
      "1977  Household median gross income  2016      004 Abbey D, Limerick City   \n",
      "...                             ...   ...                             ...   \n",
      "2142  Household median gross income  2016        132 Bilboa, Co. Limerick   \n",
      "2143  Household median gross income  2016    133 Doon South, Co. Limerick   \n",
      "2144  Household median gross income  2016         134 Grean, Co. Limerick   \n",
      "2145  Household median gross income  2016          135 Oola, Co. Limerick   \n",
      "2146  Household median gross income  2016  136 Templebredon, Co. Limerick   \n",
      "\n",
      "      UNIT  VALUE  \n",
      "1113  Euro  51583  \n",
      "1974  Euro  45769  \n",
      "1975  Euro  40010  \n",
      "1976  Euro  19005  \n",
      "1977  Euro  30288  \n",
      "...    ...    ...  \n",
      "2142  Euro  46475  \n",
      "2143  Euro  37115  \n",
      "2144  Euro  41669  \n",
      "2145  Euro  39118  \n",
      "2146  Euro  45046  \n",
      "\n",
      "[174 rows x 5 columns]\n"
     ]
    }
   ],
   "source": [
    "print(inf)\n",
    "#p = hsf.reindex(columns=['Statistic', 'CensusYear', 'Province County or City', 'UNIT', 'VALUE'])\n",
    "\n",
    "# dataframe just selecting information wanted to select\n",
    "#df1 = p[['Statistic','CensusYear','Province County or City','VALUE']]\n",
    "df2 = inf.loc[inf['Electoral Division'].str.contains('Limerick')] ## Total housing stock\n",
    "print(df2)"
   ]
  },
  {
   "cell_type": "code",
   "execution_count": null,
   "metadata": {},
   "outputs": [],
   "source": []
  }
 ],
 "metadata": {
  "kernelspec": {
   "display_name": "Python 3",
   "language": "python",
   "name": "python3"
  },
  "language_info": {
   "codemirror_mode": {
    "name": "ipython",
    "version": 3
   },
   "file_extension": ".py",
   "mimetype": "text/x-python",
   "name": "python",
   "nbconvert_exporter": "python",
   "pygments_lexer": "ipython3",
   "version": "3.8.3"
  }
 },
 "nbformat": 4,
 "nbformat_minor": 4
}
