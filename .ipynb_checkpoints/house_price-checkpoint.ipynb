{
 "cells": [
  {
   "cell_type": "markdown",
   "metadata": {},
   "source": [
    "# Property price evolution model for Limerick (Ireland)"
   ]
  },
  {
   "cell_type": "markdown",
   "metadata": {},
   "source": [
    "## Introduction"
   ]
  },
  {
   "cell_type": "markdown",
   "metadata": {},
   "source": [
    "House pricing has raised in the recent years in Ireland. Buying a house is one of the main lifelong investments families will face off. There are several Real Estate blogs that are giving their forecast opinion through blogs.\n",
    "\n",
    "This model aims to give answers to this question by runing a model based in different variables explained below.\n",
    "The model is fed with data collected from [Central Statistics Office](https://www.cso.ie/en/index.html) and media and is focused on Limerick county."
   ]
  },
  {
   "cell_type": "markdown",
   "metadata": {},
   "source": [
    "## Methodology"
   ]
  },
  {
   "cell_type": "markdown",
   "metadata": {},
   "source": [
    "In order to define the variables that will define the property price, several datasets have been chosen as suitable\n",
    "and potentially important when it comes to define property price. Some of the dataset ahd enough information to be used in the model while others needed further work to get enough data assuming by regression prediction (Population growth). The list of datasets are below:"
   ]
  },
  {
   "cell_type": "markdown",
   "metadata": {},
   "source": [
    "All datasets have associated the following information"
   ]
  },
  {
   "cell_type": "code",
   "execution_count": 137,
   "metadata": {},
   "outputs": [
    {
     "name": "stdout",
     "output_type": "stream",
     "text": [
      "Number of schools:  Index(['Statistic', 'Year', 'County', 'School Programme', 'UNIT', 'VALUE'], dtype='object')\n",
      "income information:  Index(['Statistic', 'Year', 'Electoral Division', 'UNIT', 'VALUE'], dtype='object')\n",
      "Unemployement Index(['Statistic', 'Month', 'Age Group', 'Sex', 'UNIT', 'VALUE'], dtype='object')\n"
     ]
    }
   ],
   "source": [
    "#import pandas and read datasets\n",
    "import pandas as pd\n",
    "path = (r'EDA57.20201230T121257.csv')\n",
    "nsf = pd.read_csv (path)\n",
    "print('Number of schools: ',nsf.keys())\n",
    "\n",
    "path = (r'IIA01.20201230T121251.csv')\n",
    "inf = pd.read_csv (path)\n",
    "print('income information: ',inf.keys())\n",
    "path = (r'MUM01.20201230T121228.csv')\n",
    "uf = pd.read_csv (path)\n",
    "print('Unemployement',uf.keys())"
   ]
  },
  {
   "cell_type": "markdown",
   "metadata": {},
   "source": [
    "In order to explore each of those and how it looks the information, it has been broken down each one in order to study their values and its distribution."
   ]
  },
  {
   "cell_type": "markdown",
   "metadata": {},
   "source": [
    "#### Dataset 1: Number of Schools"
   ]
  },
  {
   "cell_type": "markdown",
   "metadata": {},
   "source": [
    "Visualization, clean up and select the values interested for our model is required as first instance beforehand."
   ]
  },
  {
   "cell_type": "code",
   "execution_count": 138,
   "metadata": {},
   "outputs": [],
   "source": [
    "import seaborn as sns\n",
    "from matplotlib import pyplot as plt\n",
    "# reindex the columns just to avoid spaces in the header names\n",
    "p = nsf.reindex(columns=['Statistic', 'Year', 'County', 'School Programme', 'UNIT', 'VALUE'])\n",
    "# dataframe just selecting information wanted to select\n",
    "df1 = p[['Statistic','Year','County','VALUE']]\n",
    "df1 = df1.loc[df1['Statistic'].str.startswith('Cla')] # Select just the classes\n"
   ]
  },
  {
   "cell_type": "markdown",
   "metadata": {},
   "source": [
    "Select Limerick county and sum the values per year:"
   ]
  },
  {
   "cell_type": "code",
   "execution_count": 212,
   "metadata": {},
   "outputs": [],
   "source": [
    "import numpy as np\n",
    "## select just Limerick numbers (Limerick, Limerick city and Limerick county)\n",
    "select_Limerick = df1.loc[df1['County'].str.startswith('Lim')]\n",
    "## group by Year and sum value\n",
    "schools_Limerick=select_Limerick.groupby('Year', as_index=False).agg({\"VALUE\": \"sum\"})\n",
    "\n"
   ]
  },
  {
   "cell_type": "markdown",
   "metadata": {},
   "source": [
    "Plot the values and the regression line to see the trend of the number of schools in the county:"
   ]
  },
  {
   "cell_type": "code",
   "execution_count": 208,
   "metadata": {
    "scrolled": false
   },
   "outputs": [
    {
     "data": {
      "image/png": "[encoded data removed]",
      "text/plain": [
       "<Figure size 432x288 with 1 Axes>"
      ]
     },
     "metadata": {
      "needs_background": "light"
     },
     "output_type": "display_data"
    }
   ],
   "source": [
    "## Plot the distribution and the trend of number of classes in national school in County Limerick\n",
    "import seaborn as sns\n",
    "from matplotlib import pyplot as plt\n",
    "sns.regplot(x=\"Year\", y=\"VALUE\", data=schools_Limerick).set_title('Number classes in national school in county Limerick ');\n"
   ]
  },
  {
   "cell_type": "markdown",
   "metadata": {},
   "source": [
    "since it has been requested at least 100 entries, it has been chosen numpy.random.randint to create missing data"
   ]
  },
  {
   "cell_type": "code",
   "execution_count": 217,
   "metadata": {},
   "outputs": [],
   "source": [
    "import numpy as np\n",
    "new_Years = np.linspace(1900,1994,94,1,dtype=int)\n",
    "new_Value = np.random.randint(1400, 1750, 94, dtype='l')## set random low, high\n"
   ]
  },
  {
   "cell_type": "code",
   "execution_count": 210,
   "metadata": {},
   "outputs": [
    {
     "name": "stdout",
     "output_type": "stream",
     "text": [
      "    Year  VALUE\n",
      "0   1900   1587\n",
      "1   1901   1569\n",
      "2   1902   1691\n",
      "3   1903   1460\n",
      "4   1904   1544\n",
      "..   ...    ...\n",
      "89  1989   1402\n",
      "90  1990   1661\n",
      "91  1991   1709\n",
      "92  1992   1424\n",
      "93  1994   1678\n",
      "\n",
      "[94 rows x 2 columns]\n"
     ]
    }
   ],
   "source": [
    "row= pd.DataFrame({\"Year\" : new_Years , \"VALUE\" : new_Value})\n",
    "print(row)"
   ]
  },
  {
   "cell_type": "code",
   "execution_count": 211,
   "metadata": {},
   "outputs": [
    {
     "name": "stdout",
     "output_type": "stream",
     "text": [
      "    Year   VALUE\n",
      "0   1900  1587.0\n",
      "1   1901  1569.0\n",
      "2   1902  1691.0\n",
      "3   1903  1460.0\n",
      "4   1904  1544.0\n",
      "..   ...     ...\n",
      "21  2016  1956.0\n",
      "22  2017  2026.0\n",
      "23  2018  2054.0\n",
      "24  2019  2098.0\n",
      "25  2020  2116.0\n",
      "\n",
      "[120 rows x 2 columns]\n"
     ]
    }
   ],
   "source": [
    "frames = [row,schools_Limerick]\n",
    "result = pd.concat(frames)\n",
    "print(result)"
   ]
  },
  {
   "cell_type": "markdown",
   "metadata": {},
   "source": [
    "#### Population growth"
   ]
  },
  {
   "cell_type": "markdown",
   "metadata": {},
   "source": [
    "For Population Growth the data has been obtained from a publication of Limerick.ie (3). Since the data was discontinued, in order to have data for blank years, a linear regression model has been set up to obtain data for the years used to further feed the model (4)"
   ]
  },
  {
   "cell_type": "code",
   "execution_count": 68,
   "metadata": {},
   "outputs": [
    {
     "name": "stdout",
     "output_type": "stream",
     "text": [
      "   year  Inhabitants\n",
      "0  1996       165042\n",
      "1  2002       175304\n",
      "2  2006       184055\n",
      "3  2011       191809\n",
      "4  2016       194899\n"
     ]
    }
   ],
   "source": [
    "PopGrowth = pd.DataFrame(columns=[\"year\", \"Inhabitants\"], data=[[1996,165042],[2002,175304],[2006,184055],[2011,191809],[2016,194899]]) ## CSO and \n",
    "print(PopGrowth)"
   ]
  },
  {
   "cell_type": "code",
   "execution_count": 69,
   "metadata": {
    "scrolled": true
   },
   "outputs": [
    {
     "data": {
      "image/png": "[encoded data removed]",
      "text/plain": [
       "<Figure size 432x288 with 1 Axes>"
      ]
     },
     "metadata": {
      "needs_background": "light"
     },
     "output_type": "display_data"
    }
   ],
   "source": [
    "sns.regplot(x=\"year\", y=\"Inhabitants\", data=PopGrowth).set_title('Trend of inhabitants in County Limerick ');"
   ]
  },
  {
   "cell_type": "markdown",
   "metadata": {},
   "source": [
    "since it has been requested at least 100 entries, it has been chosen numpy.random.randint to create missing data"
   ]
  },
  {
   "cell_type": "code",
   "execution_count": 97,
   "metadata": {
    "scrolled": true
   },
   "outputs": [
    {
     "data": {
      "image/png": "[encoded data removed]",
      "text/plain": [
       "<Figure size 432x288 with 1 Axes>"
      ]
     },
     "metadata": {
      "needs_background": "light"
     },
     "output_type": "display_data"
    }
   ],
   "source": [
    "## calculate the regression line\n",
    "from sklearn.linear_model import LinearRegression\n",
    "reg = LinearRegression().fit(X, y)\n",
    "X = pd.DataFrame(PopGrowth['year'].values.reshape(-1, 1)) # values converts it into a numpy array\n",
    "y = pd.DataFrame(PopGrowth['Inhabitants'].values.reshape(-1, 1)) # -1 means that calculate the dimension of rows, but have 1 column\n",
    "linear_regressor = LinearRegression()  # create object for the class\n",
    "linear_regressor.fit(X, y)  # perform linear regression\n",
    "Y_pred = linear_regressor.predict(X)  # make predictions\n",
    "plt.scatter(X, y)\n",
    "plt.plot(X, Y_pred, color='red')\n",
    "plt.show()"
   ]
  },
  {
   "cell_type": "markdown",
   "metadata": {},
   "source": [
    "Calculate the values between 2013-2018 (This is the iterval I will use to fit the further model)"
   ]
  },
  {
   "cell_type": "code",
   "execution_count": 100,
   "metadata": {},
   "outputs": [
    {
     "name": "stdout",
     "output_type": "stream",
     "text": [
      "[[192788.26578073]\n",
      " [194342.15780731]\n",
      " [195896.04983389]\n",
      " [197449.94186046]\n",
      " [199003.83388704]\n",
      " [200557.72591362]]\n"
     ]
    }
   ],
   "source": [
    "X_new = np.array([2013, 2014, 2015, 2016, 2017, 2018]).reshape(-1, 1)\n",
    "print(linear_regressor.predict(X_new))\n"
   ]
  },
  {
   "cell_type": "code",
   "execution_count": 228,
   "metadata": {},
   "outputs": [
    {
     "name": "stdout",
     "output_type": "stream",
     "text": [
      "   year  Inhabitants\n",
      "0  2013       192788\n",
      "1  2014       194342\n",
      "2  2015       195896\n",
      "3  2016       197450\n",
      "4  2017       199004\n",
      "5  2018       200558\n"
     ]
    }
   ],
   "source": [
    "## Create a new population growth dataset with new data obtained from regression model\n",
    "new_pop_growth = pd.DataFrame(columns=[\"year\", \"Inhabitants\"], data=[[2013,192788],[2014,194342],[2015,195896],[2016,197450],[2017,199004],[2018,200558]])\n",
    "print(new_pop_growth)"
   ]
  },
  {
   "cell_type": "markdown",
   "metadata": {},
   "source": [
    "Add entries\n"
   ]
  },
  {
   "cell_type": "code",
   "execution_count": 229,
   "metadata": {
    "scrolled": false
   },
   "outputs": [
    {
     "name": "stdout",
     "output_type": "stream",
     "text": [
      "[168943.12874256 160694.27925033 178092.40994613 187739.42446152\n",
      " 179927.77417047 162423.00075203 164908.28177998 179600.65877084\n",
      " 174060.00132603 156478.63819695 191978.97018944 168351.15801607\n",
      " 191321.33256639 178633.93970175 177610.739267   181258.57786737\n",
      " 156627.88914014 175548.96672017 192369.50254802 190723.06136754\n",
      " 188224.52269638 187145.75490438 164441.31188543 182370.67659253\n",
      " 189726.70200347 167865.02305009 189657.51617796 174732.29422141\n",
      " 192635.71167433 187808.71980731 191743.45516942 175013.92464237\n",
      " 168421.60673069 183671.05760525 180604.23195691 176057.05546605\n",
      " 189033.81788043 175210.28489761 187381.23536652 167613.05126663\n",
      " 176337.21852477 176174.81321022 188600.30412835 181592.62000553\n",
      " 157519.37961592 170485.60681969 188978.81832583 180280.44414695\n",
      " 185347.04058911 173711.40955652 191727.18659213 192730.07607053\n",
      " 171760.91972549 173613.15191534 173426.25811247 189295.62770026\n",
      " 167686.41387115 168237.40967408 187753.92224891 161018.03150188\n",
      " 191685.72871865 173825.75801189 172970.95798945 181035.30348466\n",
      " 186785.10507661 167803.71540265 191896.6248351  188025.31892731\n",
      " 184298.40505437 184306.51484377 170709.57768891 190484.02061571\n",
      " 191881.2544802  166285.75395594 173557.63051576 166410.90251354\n",
      " 187598.80326202 181807.33677148 188623.83368128 171060.42664063\n",
      " 185059.19184605 190746.82945897 180535.70084986 172202.7957675\n",
      " 163991.63611618 162910.93328345 187326.43106184 166860.47822924\n",
      " 179875.39936007 178979.79699831 180281.73990986 167345.89654838\n",
      " 186506.45365365 170831.09420747 173814.34749751 187165.99873011\n",
      " 187237.37016054 186896.5869299  172824.20140875 187055.7793702\n",
      " 173278.91133131 172956.97092221 178359.97289545 189673.70109433\n",
      " 162578.75883701 174729.60531039 192645.59459358 176074.79349565\n",
      " 185831.62502733 191878.61987707 169707.44163146 168220.42700306]\n"
     ]
    }
   ],
   "source": [
    "import numpy as np\n",
    "new_Years_pop = np.linspace(1900,2012,112,1,dtype=int)\n",
    "new_Value_pop = np.random.triangular(150000, 192788, 192788, 112)## set random low, high\n",
    "print(new_Value_pop)"
   ]
  },
  {
   "cell_type": "markdown",
   "metadata": {},
   "source": [
    "Concatenate dataframe"
   ]
  },
  {
   "cell_type": "code",
   "execution_count": 230,
   "metadata": {},
   "outputs": [
    {
     "name": "stdout",
     "output_type": "stream",
     "text": [
      "    year    Inhabitants\n",
      "0   1900  168943.128743\n",
      "1   1901  160694.279250\n",
      "2   1902  178092.409946\n",
      "3   1903  187739.424462\n",
      "4   1904  179927.774170\n",
      "..   ...            ...\n",
      "1   2014  194342.000000\n",
      "2   2015  195896.000000\n",
      "3   2016  197450.000000\n",
      "4   2017  199004.000000\n",
      "5   2018  200558.000000\n",
      "\n",
      "[118 rows x 2 columns]\n"
     ]
    }
   ],
   "source": [
    "row_Pop_growth= pd.DataFrame({\"year\" : new_Years_pop , \"Inhabitants\" : new_Value_pop})\n",
    "frames = [row_Pop_growth,new_pop_growth]\n",
    "new_pop_growth = pd.concat(frames)\n",
    "#df.drop(columns=['VALUE', 'Year'])\n",
    "print(new_pop_growth)"
   ]
  },
  {
   "cell_type": "markdown",
   "metadata": {},
   "source": [
    "#### Unemployement"
   ]
  },
  {
   "cell_type": "markdown",
   "metadata": {},
   "source": [
    "The unemployement rate has been obtained from Limerick.ie (5)"
   ]
  },
  {
   "cell_type": "code",
   "execution_count": 103,
   "metadata": {},
   "outputs": [],
   "source": [
    "\n",
    "unempl = pd.DataFrame(columns=[\"year\", \"Unemployement rate\"], data=[[2012,15.8],[2013,14.4],[2014,12.7],[2015,10.5],[2016,8.8],[2017,7.1],[2018,5.2]])\n"
   ]
  },
  {
   "cell_type": "code",
   "execution_count": 104,
   "metadata": {},
   "outputs": [
    {
     "data": {
      "image/png": "[encoded data removed]",
      "text/plain": [
       "<Figure size 432x288 with 1 Axes>"
      ]
     },
     "metadata": {
      "needs_background": "light"
     },
     "output_type": "display_data"
    }
   ],
   "source": [
    "sns.regplot(x=\"year\", y=\"Unemployement rate\", data=unempl).set_title('Trend of Unemployement in County Limerick ');"
   ]
  },
  {
   "cell_type": "markdown",
   "metadata": {},
   "source": [
    "#### Investment per year"
   ]
  },
  {
   "cell_type": "code",
   "execution_count": 105,
   "metadata": {},
   "outputs": [],
   "source": [
    "## Investment per year https://www.limerick.ie/business/growing-limerick/facts-and-figures/limericks-recent-economic-growth#:~:text=The%20CSO's%20Labour%20Force%20Survey,of%205.7%25%20in%20Q1%20\n",
    "invest = pd.DataFrame(columns=[\"year\", \"Investment\"], data=[[2013,596.0],[2014,80],[2015,569.6],[2016,84.5],[2017,353.7],[2018,346.6]])"
   ]
  },
  {
   "cell_type": "code",
   "execution_count": 106,
   "metadata": {},
   "outputs": [
    {
     "data": {
      "image/png": "[encoded data removed]",
      "text/plain": [
       "<Figure size 432x288 with 1 Axes>"
      ]
     },
     "metadata": {
      "needs_background": "light"
     },
     "output_type": "display_data"
    }
   ],
   "source": [
    "sns.barplot(x=\"year\", y=\"Investment\", data=invest).set_title('Investments in Limerick (in €m) ');"
   ]
  },
  {
   "cell_type": "markdown",
   "metadata": {},
   "source": [
    "#### New jobs"
   ]
  },
  {
   "cell_type": "code",
   "execution_count": 107,
   "metadata": {},
   "outputs": [],
   "source": [
    "njobs = pd.DataFrame(columns=[\"year\", \"New Jobs\"], data=[[2013,2614],[2014,1300],[2015,3523],[2016,1957],[2017,3326],[2018,1651]])"
   ]
  },
  {
   "cell_type": "code",
   "execution_count": 108,
   "metadata": {},
   "outputs": [
    {
     "name": "stdout",
     "output_type": "stream",
     "text": [
      "   year  New Jobs\n",
      "0  2013      2614\n",
      "1  2014      1300\n",
      "2  2015      3523\n",
      "3  2016      1957\n",
      "4  2017      3326\n",
      "5  2018      1651\n"
     ]
    },
    {
     "data": {
      "text/plain": [
       "<matplotlib.axes._subplots.AxesSubplot at 0x7fbd8e795a00>"
      ]
     },
     "execution_count": 108,
     "metadata": {},
     "output_type": "execute_result"
    },
    {
     "data": {
      "image/png": "[encoded data removed]",
      "text/plain": [
       "<Figure size 432x288 with 1 Axes>"
      ]
     },
     "metadata": {
      "needs_background": "light"
     },
     "output_type": "display_data"
    }
   ],
   "source": [
    "print(njobs)\n",
    "\n",
    "sns.barplot(x=\"year\", y=\"New Jobs\", data=njobs)"
   ]
  },
  {
   "cell_type": "markdown",
   "metadata": {},
   "source": [
    "#### Housing Price "
   ]
  },
  {
   "cell_type": "code",
   "execution_count": 109,
   "metadata": {},
   "outputs": [
    {
     "name": "stdout",
     "output_type": "stream",
     "text": [
      "housing price Index(['Statistic', 'Year', 'County', 'Dwelling Status', 'Stamp Duty Event',\n",
      "       'Type of Buyer', 'Type of Sale', 'UNIT', 'VALUE'],\n",
      "      dtype='object')\n"
     ]
    }
   ],
   "source": [
    "path = (r'HPA02.20210101T190157.csv') ## Source CSO\n",
    "hp = pd.read_csv (path)\n",
    "print('housing price',hp.keys())"
   ]
  },
  {
   "cell_type": "markdown",
   "metadata": {},
   "source": [
    "Select the prices registered for County Limerick"
   ]
  },
  {
   "cell_type": "code",
   "execution_count": 110,
   "metadata": {},
   "outputs": [
    {
     "name": "stdout",
     "output_type": "stream",
     "text": [
      "   Year         VALUE\n",
      "0  2010  69878.280374\n",
      "1  2011  54093.519302\n",
      "2  2012  50380.690278\n",
      "3  2013  48068.300935\n",
      "4  2014  40076.655841\n",
      "5  2015  45928.559579\n",
      "6  2016  51480.507639\n",
      "7  2017  62999.727103\n",
      "8  2018  71376.795093\n",
      "9  2019  83149.634651\n"
     ]
    }
   ],
   "source": [
    "## select just Limerick numbers (Limerick, Limerick city and Limerick county)\n",
    "select_Limerick = hp.loc[hp['County'].str.startswith('Lim')]\n",
    "## group by Year and sum value\n",
    "house_Limerick=select_Limerick.groupby('Year', as_index=False).agg({\"VALUE\": \"mean\"})\n",
    "print(house_Limerick) # I have used the mean, probably a deeper understanding of the databse should be carried out, but It wasn't so clear how to clean up possible outliers"
   ]
  },
  {
   "cell_type": "code",
   "execution_count": 111,
   "metadata": {},
   "outputs": [
    {
     "data": {
      "image/png": "[encoded data removed]",
      "text/plain": [
       "<Figure size 432x288 with 1 Axes>"
      ]
     },
     "metadata": {
      "needs_background": "light"
     },
     "output_type": "display_data"
    }
   ],
   "source": [
    "sns.regplot(x=\"Year\", y=\"VALUE\", data=house_Limerick).set_title('Price housing in county Limerick ');"
   ]
  },
  {
   "cell_type": "markdown",
   "metadata": {},
   "source": [
    "#### Create a unique dataframe merging the information from the ones created above"
   ]
  },
  {
   "cell_type": "code",
   "execution_count": 112,
   "metadata": {},
   "outputs": [],
   "source": [
    "new = [house_Limerick[\"Year\"], house_Limerick[\"VALUE\"]]\n",
    "headers = [\"year\", \"Property price\"]"
   ]
  },
  {
   "cell_type": "code",
   "execution_count": 113,
   "metadata": {},
   "outputs": [
    {
     "name": "stdout",
     "output_type": "stream",
     "text": [
      "   year  Property price\n",
      "0  2010    69878.280374\n",
      "1  2011    54093.519302\n",
      "2  2012    50380.690278\n",
      "3  2013    48068.300935\n",
      "4  2014    40076.655841\n",
      "5  2015    45928.559579\n",
      "6  2016    51480.507639\n",
      "7  2017    62999.727103\n",
      "8  2018    71376.795093\n",
      "9  2019    83149.634651\n"
     ]
    }
   ],
   "source": [
    "df4 = pd.concat(new, axis=1, keys=headers)\n",
    "print(df4)"
   ]
  },
  {
   "cell_type": "code",
   "execution_count": 115,
   "metadata": {},
   "outputs": [
    {
     "name": "stdout",
     "output_type": "stream",
     "text": [
      "   year  Property price  New Jobs  Investment  Unemployement rate  \\\n",
      "0  2013    48068.300935      2614       596.0                14.4   \n",
      "1  2014    40076.655841      1300        80.0                12.7   \n",
      "2  2015    45928.559579      3523       569.6                10.5   \n",
      "3  2016    51480.507639      1957        84.5                 8.8   \n",
      "4  2017    62999.727103      3326       353.7                 7.1   \n",
      "5  2018    71376.795093      1651       346.6                 5.2   \n",
      "\n",
      "   New Schools  Inhabitants  \n",
      "0       1878.0       192788  \n",
      "1       1900.0       194342  \n",
      "2       1934.0       195896  \n",
      "3       1956.0       197450  \n",
      "4       2026.0       199004  \n",
      "5       2054.0       200558  \n"
     ]
    }
   ],
   "source": [
    "new_new=pd.merge(df4, njobs, on='year')\n",
    "merge_invest= pd.merge(new_new,invest, on='year')\n",
    "merge_unempl = pd.merge(merge_invest,unempl, on='year')\n",
    "schools = schools_Limerick.rename(columns={'Year': 'year', 'VALUE': 'New Schools'})\n",
    "merge_schools= pd.merge(merge_unempl, schools, on='year')\n",
    "merge_Pop_growth= pd.merge(merge_schools, new_pop_growth, on='year')\n",
    "\n",
    "print(merge_Pop_growth)"
   ]
  },
  {
   "cell_type": "markdown",
   "metadata": {},
   "source": [
    "## Prediction"
   ]
  },
  {
   "cell_type": "markdown",
   "metadata": {},
   "source": [
    "The kind of predition we are facing is a regression problem since the aim is to predict a continuous-valued attribute associated with an object, in this case to obtain property price for the next years in Limerick."
   ]
  },
  {
   "cell_type": "code",
   "execution_count": 116,
   "metadata": {},
   "outputs": [],
   "source": [
    "inputs= merge_Pop_growth[['year','New Jobs','Investment','Unemployement rate','New Schools','Inhabitants']]\n",
    "outputs = merge_Pop_growth[['Property price']]"
   ]
  },
  {
   "cell_type": "code",
   "execution_count": 133,
   "metadata": {},
   "outputs": [
    {
     "name": "stdout",
     "output_type": "stream",
     "text": [
      "Intercept: \n",
      " [-3.14442237e+08]\n",
      "Coefficients: \n",
      " [[ 1.06418249e+00  2.45359517e+01  6.38403009e+02  1.15603979e+06\n",
      "  -1.14081903e+04  1.65373958e+03]]\n",
      "Predicted Stock Index Price: \n",
      " [[682848.33564651]]\n"
     ]
    }
   ],
   "source": [
    "## https://datatofish.com/multiple-linear-regression-python/\n",
    "from sklearn import linear_model\n",
    "# with sklearn\n",
    "regr = linear_model.LinearRegression()\n",
    "regr.fit(inputs, outputs)\n",
    "\n",
    "print('Intercept: \\n', regr.intercept_)\n",
    "print('Coefficients: \\n', regr.coef_)\n",
    "\n"
   ]
  },
  {
   "cell_type": "markdown",
   "metadata": {},
   "source": [
    "First let's try to test the model with an existing values to see if it's performing good."
   ]
  },
  {
   "cell_type": "code",
   "execution_count": 134,
   "metadata": {},
   "outputs": [
    {
     "name": "stdout",
     "output_type": "stream",
     "text": [
      "Predicted Stock Index Price: \n",
      " [[51480.50763899]]\n"
     ]
    }
   ],
   "source": [
    "# prediction with sklearn\n",
    "year = 2016\n",
    "new_jobs = 1957\n",
    "new_investment = 84.5\n",
    "New_Unemployment_Rate = 8.8\n",
    "New_Schools = 1956.0\n",
    "New_inhabitants = 197450\n",
    "print ('Predicted Stock Index Price: \\n', regr.predict([[year ,new_jobs, new_investment, New_Unemployment_Rate, New_Schools, New_inhabitants]]))\n",
    "\n"
   ]
  },
  {
   "cell_type": "markdown",
   "metadata": {},
   "source": [
    "As we can see the result is good for 2016."
   ]
  },
  {
   "cell_type": "markdown",
   "metadata": {},
   "source": [
    "Now introduce yourself the desired values you want to try:"
   ]
  },
  {
   "cell_type": "code",
   "execution_count": 135,
   "metadata": {},
   "outputs": [
    {
     "name": "stdout",
     "output_type": "stream",
     "text": [
      "Year :2030\n",
      "New Jobs : 200\n",
      "Investment in €m : 300\n",
      "Unemployment rate : 2.0\n",
      "New classes :1900\n",
      "New inhabitants :200000\n",
      "Predicted Stock Index Price: \n",
      " [[-2859214.37535727]]\n"
     ]
    }
   ],
   "source": [
    "year = int(input(\"Year :\"))\n",
    "new_jobs = int(input(\"New Jobs : \"))\n",
    "new_investment = float(input(\"Investment in €m : \"))\n",
    "New_Unemployment_Rate = float(input(\"Unemployment rate : \"))\n",
    "New_Schools = int(input(\"New classes :\"))\n",
    "New_inhabitants = int(input(\"New inhabitants :\"))\n",
    "print ('Predicted Stock Index Price: \\n', regr.predict([[year ,new_jobs, new_investment, New_Unemployment_Rate, New_Schools, New_inhabitants]]))"
   ]
  },
  {
   "cell_type": "markdown",
   "metadata": {},
   "source": [
    "## References"
   ]
  },
  {
   "cell_type": "markdown",
   "metadata": {},
   "source": [
    "(1) Central Statistics Office : (https://www.cso.ie/en/index.html)\n",
    "\n",
    "(2) Limerick.ie : https://www.limerick.ie/sites/default/files/media/documents/2018-07/Economic%20Profiling%20Report%20for%20Limerick%20City%20and%20County.pdf\n"
   ]
  },
  {
   "cell_type": "markdown",
   "metadata": {},
   "source": [
    "(3) Limerick.ie (Population Growth) : https://www.limerick.ie/business/growing-limerick/facts-and-figures/limericks-recent-economic-growth"
   ]
  },
  {
   "cell_type": "markdown",
   "metadata": {},
   "source": [
    "(4) Towards data Science : (Linear regression) https://towardsdatascience.com/linear-regression-in-6-lines-of-python-5e1d0cd05b8d"
   ]
  },
  {
   "cell_type": "markdown",
   "metadata": {},
   "source": [
    "(5) Limerick.ie (Unemployement rate) https://www.limerick.ie/business/growing-limerick/facts-and-figures/limericks-recent-economic-growth#:~:text=The%20CSO's%20Labour%20Force%20Survey,of%205.7%25%20in%20Q1%202018.\n",
    "    "
   ]
  },
  {
   "cell_type": "code",
   "execution_count": null,
   "metadata": {},
   "outputs": [],
   "source": []
  }
 ],
 "metadata": {
  "kernelspec": {
   "display_name": "Python 3",
   "language": "python",
   "name": "python3"
  },
  "language_info": {
   "codemirror_mode": {
    "name": "ipython",
    "version": 3
   },
   "file_extension": ".py",
   "mimetype": "text/x-python",
   "name": "python",
   "nbconvert_exporter": "python",
   "pygments_lexer": "ipython3",
   "version": "3.8.3"
  }
 },
 "nbformat": 4,
 "nbformat_minor": 4
}
